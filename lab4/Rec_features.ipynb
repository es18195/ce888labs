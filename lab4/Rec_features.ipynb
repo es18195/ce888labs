{
 "cells": [
  {
   "cell_type": "markdown",
   "metadata": {
    "slideshow": {
     "slide_type": "slide"
    }
   },
   "source": [
    "# Hybrid Models for Recommendation Systems"
   ]
  },
  {
   "cell_type": "markdown",
   "metadata": {
    "slideshow": {
     "slide_type": "slide"
    }
   },
   "source": [
    "Load Pandas, we are going to need it for manipulating data"
   ]
  },
  {
   "cell_type": "code",
   "execution_count": 1,
   "metadata": {
    "slideshow": {
     "slide_type": "fragment"
    }
   },
   "outputs": [],
   "source": [
    "import pandas as pd\n",
    "import numpy as np\n",
    "from IPython.display import Image\n",
    "np.set_printoptions(precision = 3)"
   ]
  },
  {
   "cell_type": "markdown",
   "metadata": {
    "slideshow": {
     "slide_type": "slide"
    }
   },
   "source": [
    "Now load the data"
   ]
  },
  {
   "cell_type": "code",
   "execution_count": 26,
   "metadata": {
    "slideshow": {
     "slide_type": "fragment"
    }
   },
   "outputs": [
    {
     "name": "stdout",
     "output_type": "stream",
     "text": [
      "Empty DataFrame\n",
      "Columns: [Sex,  Over60, key, user_id, Critic0,  Critic1, item_id, rating]\n",
      "Index: []\n"
     ]
    }
   ],
   "source": [
    "user_ratings_df = pd.read_csv(\"user_ratings.csv\")\n",
    "user_features_df = pd.read_csv(\"user_features.csv\")\n",
    "item_features_df = pd.read_csv(\"item_features.csv\")\n",
    "\n",
    "\n",
    "user_features_df[\"key\"] = 0\n",
    "user_features_df[\"user_id\"] = range(0,user_features_df.shape[0])\n",
    "item_features_df[\"key\"] = 0\n",
    "item_features_df[\"item_id\"] = range(0,item_features_df.shape[0])\n",
    "\n",
    "merged_df = pd.merge(user_features_df, item_features_df,left_index=True,on=\"key\")\n",
    "merged_df[[\"item_id\", \"user_id\"]]\n",
    "\n",
    "\n",
    "\n",
    "\n",
    "merged_df[\"rating\"] = map(lambda ids: user_ratings_df.values[ids[1]][ids[2]], \n",
    "                          merged_df[[\"user_id\", \"item_id\"]].itertuples())\n",
    "\n",
    "train = merged_df.dropna()\n",
    "\n",
    "test = merged_df[merged_df.isnull().any(axis=1)]\n",
    "\n",
    "print (test)\n",
    "\n"
   ]
  },
  {
   "cell_type": "code",
   "execution_count": 11,
   "metadata": {
    "slideshow": {
     "slide_type": "slide"
    }
   },
   "outputs": [
    {
     "name": "stdout",
     "output_type": "stream",
     "text": [
      "   Critic0   Critic1  key  item_id\n",
      "0      0.3       0.9    0        0\n",
      "1      0.9       0.3    0        1\n",
      "2      0.6       0.4    0        2\n",
      "3      0.2       0.1    0        3\n",
      "4      0.7       0.8    0        4\n"
     ]
    }
   ],
   "source": [
    "n_latent_features = 2\n",
    "\n",
    "user_ratings = user_ratings_df.values\n",
    "latent_user_preferences = np.random.random((user_ratings.shape[0], n_latent_features))\n",
    "latent_item_features = np.random.random((user_ratings.shape[1],n_latent_features))\n",
    "\n",
    "user_features = user_features_df.values\n",
    "item_features = item_features_df.values\n",
    "\n",
    "print (item_features_df)\n",
    "\n",
    "\n",
    "user_features = np.concatenate([np.ones(shape = (user_features.shape[0],1)), user_features], axis = 1)\n",
    "item_features = np.concatenate([np.ones(shape = (item_features.shape[0],1)), item_features], axis = 1)\n",
    "\n",
    "\n",
    "\n",
    "user_features_weights = np.random.random((user_ratings.shape[0], user_features.shape[1] ))\n",
    "item_features_weights = np.random.random((user_ratings.shape[1],item_features.shape[1] ))\n",
    "\n",
    "\n",
    "\n",
    "# print user_features"
   ]
  },
  {
   "cell_type": "code",
   "execution_count": 13,
   "metadata": {
    "slideshow": {
     "slide_type": "slide"
    }
   },
   "outputs": [],
   "source": [
    "def predict_rating(user_id,item_id):\n",
    "    \"\"\" Predict a rating given a user_id and an item_id.\n",
    "    \"\"\"\n",
    "    user_preference = latent_user_preferences[user_id]\n",
    "    item_preference = latent_item_features[item_id]\n",
    "    \n",
    "    user_score = user_features_weights[user_id].dot(user_features[user_id])\n",
    "    item_score = item_features_weights[item_id].dot(item_features[item_id])\n",
    "    #print user_preference.dot(item_preference), user_score, item_score\n",
    "    return user_preference.dot(item_preference) + user_score + item_score\n",
    "\n",
    "def train(user_id, item_id, rating,alpha = 0.001, \n",
    "                                   latent_feature_weight_decay = 0.1, \n",
    "                                   user_weight_decay = 0.01,\n",
    "                                   item_weight_decay = 0.0001):\n",
    "    \n",
    "    #print item_id\n",
    "    prediction_rating = predict_rating(user_id, item_id)\n",
    "    err =  ( prediction_rating - rating );\n",
    "    #print err\n",
    "    user_pref_values = latent_user_preferences[user_id][:]\n",
    "    latent_user_preferences[user_id] -= alpha * err *  ( latent_item_features[item_id] + latent_feature_weight_decay*latent_user_preferences[user_id])\n",
    "    latent_item_features[item_id] -= alpha * err * ( user_pref_values + latent_feature_weight_decay*latent_item_features[item_id])\n",
    "    \n",
    "    user_features_weights[user_id] -=alpha * err *(  user_features[user_id] + user_weight_decay* user_features_weights[user_id])\n",
    "    item_features_weights[item_id] -=alpha * err * ( item_features_weights[item_id] + item_weight_decay* item_features_weights[item_id])\n",
    "    \n",
    "    \n",
    "    return err\n",
    "    \n",
    "\n",
    "\n",
    "def sgd(iterations = 30000):\n",
    "    \"\"\" Iterate over all users and all items and train for \n",
    "        a certain number of iterations\n",
    "    \"\"\"\n",
    "    for iteration in range(0,iterations):\n",
    "        error = []\n",
    "        for user_id in range(0,latent_user_preferences.shape[0]):\n",
    "            for item_id in range(0,latent_item_features.shape[0]):\n",
    "                rating = user_ratings[user_id][item_id]\n",
    "                if(not np.isnan(rating)):\n",
    "                    err = train(user_id,item_id,rating)\n",
    "                    error.append(err)\n",
    "    mse = (np.array(error) ** 2).mean()          \n",
    "    print (mse)\n",
    "                    \n",
    "                    \n",
    "    \n",
    "                    \n",
    "                    \n",
    "    \n"
   ]
  },
  {
   "cell_type": "code",
   "execution_count": 14,
   "metadata": {
    "slideshow": {
     "slide_type": "fragment"
    }
   },
   "outputs": [
    {
     "name": "stdout",
     "output_type": "stream",
     "text": [
      "0.2784242195113409\n",
      "0.27457411516785285\n",
      "0.2734557631312004\n",
      "0.272984786015086\n",
      "0.27276553046412283\n",
      "0.2726712316698812\n",
      "0.27264979045339194\n",
      "0.2726764719275502\n",
      "0.27273848144777674\n",
      "0.27282892589865115\n"
     ]
    }
   ],
   "source": [
    "for _ in range(0,10): \n",
    "    sgd()"
   ]
  },
  {
   "cell_type": "code",
   "execution_count": 16,
   "metadata": {
    "slideshow": {
     "slide_type": "slide"
    }
   },
   "outputs": [
    {
     "name": "stdout",
     "output_type": "stream",
     "text": [
      "[[ 0.561  0.923  0.024  0.293  0.73 ]\n",
      " [-1.009  0.199 -0.556  0.722 -0.166]\n",
      " [ 0.236  0.757  0.411  0.312  1.009]\n",
      " [ 0.147  0.945  0.677  0.755  0.809]\n",
      " [-0.02   0.597  0.572  0.36  -0.075]\n",
      " [ 0.823  0.536  0.587  0.959  3.078]\n",
      " [ 0.195  0.572  0.274  0.764 -0.041]\n",
      " [ 0.593  0.945  0.165  0.247  0.031]\n",
      " [ 0.352  0.51   0.548  0.899 -0.468]\n",
      " [ 0.209  0.219  0.89   0.38  -0.224]]\n",
      "[[1.787e+00 2.528e+00 8.516e-01 2.105e+00 1.965e+00]\n",
      " [1.506e-02 2.658e-02 2.449e-02 1.398e-03 3.811e-03]\n",
      " [3.064e-02 8.489e-02 1.594e-01 9.492e-02 2.900e-02]\n",
      " [8.432e-01 2.898e-02 3.734e-01 2.156e-01 5.472e-01]\n",
      " [1.867e+00 2.256e-01 2.670e-01 2.443e+00 1.924e+00]]\n"
     ]
    }
   ],
   "source": [
    "predictions = np.zeros(shape = (latent_user_preferences.shape[0], latent_item_features.shape[0]) )\n",
    "#print latent_user_preferences\n",
    "print (user_features_weights)\n",
    "print (item_features_weights)\n",
    "for user_id in range(0,latent_user_preferences.shape[0]):\n",
    "            for item_id in range(0,latent_item_features.shape[0]):\n",
    "                predictions[user_id,item_id] =  predict_rating(user_id,item_id)\n",
    "\n",
    "  "
   ]
  },
  {
   "cell_type": "code",
   "execution_count": 21,
   "metadata": {
    "slideshow": {
     "slide_type": "slide"
    }
   },
   "outputs": [],
   "source": [
    "values = [zip(user_ratings[i], predictions[i]) for i in range(0,predictions.shape[0])]\n",
    "comparison_data = pd.DataFrame(values)\n",
    "comparison_data.columns = user_ratings_df.columns\n",
    "#comparison_data.applymap(lambda (x,y): \"(%2.3f|%2.3f)\"%(x,y))"
   ]
  },
  {
   "cell_type": "code",
   "execution_count": 22,
   "metadata": {
    "slideshow": {
     "slide_type": "fragment"
    }
   },
   "outputs": [
    {
     "data": {
      "text/html": [
       "<div>\n",
       "<style scoped>\n",
       "    .dataframe tbody tr th:only-of-type {\n",
       "        vertical-align: middle;\n",
       "    }\n",
       "\n",
       "    .dataframe tbody tr th {\n",
       "        vertical-align: top;\n",
       "    }\n",
       "\n",
       "    .dataframe thead th {\n",
       "        text-align: right;\n",
       "    }\n",
       "</style>\n",
       "<table border=\"1\" class=\"dataframe\">\n",
       "  <thead>\n",
       "    <tr style=\"text-align: right;\">\n",
       "      <th></th>\n",
       "      <th>The Call of Cthulhu</th>\n",
       "      <th>Frankenstein</th>\n",
       "      <th>Dracula</th>\n",
       "      <th>Neuromancer</th>\n",
       "      <th>Space Odyssey</th>\n",
       "    </tr>\n",
       "  </thead>\n",
       "  <tbody>\n",
       "    <tr>\n",
       "      <th>0</th>\n",
       "      <td>(8.0, 7.937341203335815)</td>\n",
       "      <td>(2.0, 2.2309664323723006)</td>\n",
       "      <td>(nan, 21.289816529023664)</td>\n",
       "      <td>(5.0, 4.85439863316201)</td>\n",
       "      <td>(4.0, 3.9792628899830875)</td>\n",
       "    </tr>\n",
       "    <tr>\n",
       "      <th>1</th>\n",
       "      <td>(3.0, 2.9029806170556514)</td>\n",
       "      <td>(2.0, 2.362459736783734)</td>\n",
       "      <td>(nan, -32.395347021965314)</td>\n",
       "      <td>(7.0, 6.7706950618795645)</td>\n",
       "      <td>(7.0, 6.967595624672963)</td>\n",
       "    </tr>\n",
       "    <tr>\n",
       "      <th>2</th>\n",
       "      <td>(9.0, 8.936303662596352)</td>\n",
       "      <td>(nan, 4.631064863172122)</td>\n",
       "      <td>(7.0, 7.007501387385744)</td>\n",
       "      <td>(8.0, 8.053118736756023)</td>\n",
       "      <td>(5.0, 4.999866179808517)</td>\n",
       "    </tr>\n",
       "    <tr>\n",
       "      <th>3</th>\n",
       "      <td>(nan, 8.911641568662445)</td>\n",
       "      <td>(nan, 4.961565790785496)</td>\n",
       "      <td>(7.0, 7.000027036596634)</td>\n",
       "      <td>(8.0, 7.9993272788732614)</td>\n",
       "      <td>(9.0, 8.999469435517353)</td>\n",
       "    </tr>\n",
       "    <tr>\n",
       "      <th>4</th>\n",
       "      <td>(nan, 4.912595230661494)</td>\n",
       "      <td>(1.0, 0.6839478091217791)</td>\n",
       "      <td>(8.0, 8.006028406196476)</td>\n",
       "      <td>(3.0, 3.2663237144659556)</td>\n",
       "      <td>(7.0, 7.027706104724524)</td>\n",
       "    </tr>\n",
       "    <tr>\n",
       "      <th>5</th>\n",
       "      <td>(2.0, 2.0047986568797347)</td>\n",
       "      <td>(3.0, 2.9948101165210272)</td>\n",
       "      <td>(5.0, 4.999681329443879)</td>\n",
       "      <td>(nan, -0.01654406052371682)</td>\n",
       "      <td>(nan, 62.88859888550325)</td>\n",
       "    </tr>\n",
       "    <tr>\n",
       "      <th>6</th>\n",
       "      <td>(4.0, 4.445379857770931)</td>\n",
       "      <td>(2.0, 0.3867126008108789)</td>\n",
       "      <td>(nan, 6.2437819925185085)</td>\n",
       "      <td>(2.0, 2.9817010269793736)</td>\n",
       "      <td>(7.0, 7.140341584044863)</td>\n",
       "    </tr>\n",
       "    <tr>\n",
       "      <th>7</th>\n",
       "      <td>(7.0, 6.441383648781425)</td>\n",
       "      <td>(1.0, 2.9213908445383185)</td>\n",
       "      <td>(2.0, 2.066139906216127)</td>\n",
       "      <td>(7.0, 5.868454513259691)</td>\n",
       "      <td>(9.0, 8.836160242463166)</td>\n",
       "    </tr>\n",
       "    <tr>\n",
       "      <th>8</th>\n",
       "      <td>(3.0, 3.160048442238635)</td>\n",
       "      <td>(3.0, 2.427839201259117)</td>\n",
       "      <td>(nan, -34.08833468928435)</td>\n",
       "      <td>(7.0, 7.336158149878218)</td>\n",
       "      <td>(3.0, 3.048031221713254)</td>\n",
       "    </tr>\n",
       "    <tr>\n",
       "      <th>9</th>\n",
       "      <td>(4.0, 4.16691719703112)</td>\n",
       "      <td>(nan, -0.14517078232080602)</td>\n",
       "      <td>(5.0, 4.993335000830787)</td>\n",
       "      <td>(3.0, 2.8687510013746493)</td>\n",
       "      <td>(3.0, 2.999121878712298)</td>\n",
       "    </tr>\n",
       "  </tbody>\n",
       "</table>\n",
       "</div>"
      ],
      "text/plain": [
       "         The Call of Cthulhu                 Frankenstein  \\\n",
       "0   (8.0, 7.937341203335815)    (2.0, 2.2309664323723006)   \n",
       "1  (3.0, 2.9029806170556514)     (2.0, 2.362459736783734)   \n",
       "2   (9.0, 8.936303662596352)     (nan, 4.631064863172122)   \n",
       "3   (nan, 8.911641568662445)     (nan, 4.961565790785496)   \n",
       "4   (nan, 4.912595230661494)    (1.0, 0.6839478091217791)   \n",
       "5  (2.0, 2.0047986568797347)    (3.0, 2.9948101165210272)   \n",
       "6   (4.0, 4.445379857770931)    (2.0, 0.3867126008108789)   \n",
       "7   (7.0, 6.441383648781425)    (1.0, 2.9213908445383185)   \n",
       "8   (3.0, 3.160048442238635)     (3.0, 2.427839201259117)   \n",
       "9    (4.0, 4.16691719703112)  (nan, -0.14517078232080602)   \n",
       "\n",
       "                      Dracula                  Neuromancer  \\\n",
       "0   (nan, 21.289816529023664)      (5.0, 4.85439863316201)   \n",
       "1  (nan, -32.395347021965314)    (7.0, 6.7706950618795645)   \n",
       "2    (7.0, 7.007501387385744)     (8.0, 8.053118736756023)   \n",
       "3    (7.0, 7.000027036596634)    (8.0, 7.9993272788732614)   \n",
       "4    (8.0, 8.006028406196476)    (3.0, 3.2663237144659556)   \n",
       "5    (5.0, 4.999681329443879)  (nan, -0.01654406052371682)   \n",
       "6   (nan, 6.2437819925185085)    (2.0, 2.9817010269793736)   \n",
       "7    (2.0, 2.066139906216127)     (7.0, 5.868454513259691)   \n",
       "8   (nan, -34.08833468928435)     (7.0, 7.336158149878218)   \n",
       "9    (5.0, 4.993335000830787)    (3.0, 2.8687510013746493)   \n",
       "\n",
       "               Space Odyssey  \n",
       "0  (4.0, 3.9792628899830875)  \n",
       "1   (7.0, 6.967595624672963)  \n",
       "2   (5.0, 4.999866179808517)  \n",
       "3   (9.0, 8.999469435517353)  \n",
       "4   (7.0, 7.027706104724524)  \n",
       "5   (nan, 62.88859888550325)  \n",
       "6   (7.0, 7.140341584044863)  \n",
       "7   (9.0, 8.836160242463166)  \n",
       "8   (3.0, 3.048031221713254)  \n",
       "9   (3.0, 2.999121878712298)  "
      ]
     },
     "execution_count": 22,
     "metadata": {},
     "output_type": "execute_result"
    }
   ],
   "source": [
    "comparison_data"
   ]
  },
  {
   "cell_type": "code",
   "execution_count": 23,
   "metadata": {},
   "outputs": [],
   "source": [
    "d = comparison_data.to_latex()\n",
    "text_file = open(\"comparison.txt\", \"w\")\n",
    "text_file.write(d)\n",
    "text_file.close()"
   ]
  },
  {
   "cell_type": "code",
   "execution_count": null,
   "metadata": {},
   "outputs": [],
   "source": []
  },
  {
   "cell_type": "code",
   "execution_count": null,
   "metadata": {},
   "outputs": [],
   "source": []
  },
  {
   "cell_type": "code",
   "execution_count": null,
   "metadata": {},
   "outputs": [],
   "source": []
  },
  {
   "cell_type": "code",
   "execution_count": null,
   "metadata": {},
   "outputs": [],
   "source": []
  }
 ],
 "metadata": {
  "kernelspec": {
   "display_name": "Python 3",
   "language": "python",
   "name": "python3"
  },
  "language_info": {
   "codemirror_mode": {
    "name": "ipython",
    "version": 3
   },
   "file_extension": ".py",
   "mimetype": "text/x-python",
   "name": "python",
   "nbconvert_exporter": "python",
   "pygments_lexer": "ipython3",
   "version": "3.6.5"
  }
 },
 "nbformat": 4,
 "nbformat_minor": 1
}
